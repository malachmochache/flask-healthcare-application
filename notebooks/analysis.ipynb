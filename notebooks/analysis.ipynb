{
 "cells": [
  {
   "cell_type": "markdown",
   "id": "87dde6ce-866d-42cd-b955-eec784a69b35",
   "metadata": {},
   "source": [
    "# Flask Healthcare Application"
   ]
  },
  {
   "cell_type": "markdown",
   "id": "975fb6da-e2bd-414f-9ad0-64ae64882ead",
   "metadata": {},
   "source": [
    "## Data Processing\n",
    "---"
   ]
  },
  {
   "cell_type": "markdown",
   "id": "12f9f261-6819-411b-a057-2e94452d082a",
   "metadata": {},
   "source": [
    "### Import required libraries"
   ]
  },
  {
   "cell_type": "code",
   "execution_count": 20,
   "id": "852081b1-0fcb-4e5c-b069-cb0cd8221f36",
   "metadata": {},
   "outputs": [],
   "source": [
    "import pandas as pd\n",
    "import matplotlib.pyplot as plt\n",
    "import seaborn as sns\n",
    "from pathlib import Path"
   ]
  },
  {
   "cell_type": "markdown",
   "id": "37ecb9cb-26a3-47ec-9947-3a3ed4a8e47f",
   "metadata": {},
   "source": [
    "### Load the CSV data"
   ]
  },
  {
   "cell_type": "code",
   "execution_count": 21,
   "id": "0beed860-b119-4fad-986b-97624a066817",
   "metadata": {},
   "outputs": [
    {
     "name": "stdout",
     "output_type": "stream",
     "text": [
      "✅ Data imported successfully. Here's a preview:\n",
      "\n"
     ]
    },
    {
     "data": {
      "text/html": [
       "<div>\n",
       "<style scoped>\n",
       "    .dataframe tbody tr th:only-of-type {\n",
       "        vertical-align: middle;\n",
       "    }\n",
       "\n",
       "    .dataframe tbody tr th {\n",
       "        vertical-align: top;\n",
       "    }\n",
       "\n",
       "    .dataframe thead th {\n",
       "        text-align: right;\n",
       "    }\n",
       "</style>\n",
       "<table border=\"1\" class=\"dataframe\">\n",
       "  <thead>\n",
       "    <tr style=\"text-align: right;\">\n",
       "      <th></th>\n",
       "      <th>age</th>\n",
       "      <th>gender</th>\n",
       "      <th>total_income</th>\n",
       "      <th>utilities</th>\n",
       "      <th>entertainment</th>\n",
       "      <th>school_fees</th>\n",
       "      <th>shopping</th>\n",
       "      <th>healthcare</th>\n",
       "    </tr>\n",
       "  </thead>\n",
       "  <tbody>\n",
       "    <tr>\n",
       "      <th>0</th>\n",
       "      <td>40</td>\n",
       "      <td>Male</td>\n",
       "      <td>62000.0</td>\n",
       "      <td>20000.0</td>\n",
       "      <td>5000.0</td>\n",
       "      <td>15000.0</td>\n",
       "      <td>11000.0</td>\n",
       "      <td>10000.0</td>\n",
       "    </tr>\n",
       "    <tr>\n",
       "      <th>1</th>\n",
       "      <td>55</td>\n",
       "      <td>Female</td>\n",
       "      <td>70000.0</td>\n",
       "      <td>12000.0</td>\n",
       "      <td>6000.0</td>\n",
       "      <td>20000.0</td>\n",
       "      <td>10000.0</td>\n",
       "      <td>11000.0</td>\n",
       "    </tr>\n",
       "    <tr>\n",
       "      <th>2</th>\n",
       "      <td>28</td>\n",
       "      <td>Female</td>\n",
       "      <td>85000.0</td>\n",
       "      <td>12000.0</td>\n",
       "      <td>5000.0</td>\n",
       "      <td>20000.0</td>\n",
       "      <td>8000.0</td>\n",
       "      <td>10000.0</td>\n",
       "    </tr>\n",
       "    <tr>\n",
       "      <th>3</th>\n",
       "      <td>35</td>\n",
       "      <td>Male</td>\n",
       "      <td>150000.0</td>\n",
       "      <td>20000.0</td>\n",
       "      <td>10000.0</td>\n",
       "      <td>30000.0</td>\n",
       "      <td>15000.0</td>\n",
       "      <td>12000.0</td>\n",
       "    </tr>\n",
       "    <tr>\n",
       "      <th>4</th>\n",
       "      <td>42</td>\n",
       "      <td>Female</td>\n",
       "      <td>95000.0</td>\n",
       "      <td>15000.0</td>\n",
       "      <td>7000.0</td>\n",
       "      <td>10000.0</td>\n",
       "      <td>12000.0</td>\n",
       "      <td>15000.0</td>\n",
       "    </tr>\n",
       "    <tr>\n",
       "      <th>5</th>\n",
       "      <td>30</td>\n",
       "      <td>Male</td>\n",
       "      <td>60000.0</td>\n",
       "      <td>8000.0</td>\n",
       "      <td>3000.0</td>\n",
       "      <td>5000.0</td>\n",
       "      <td>5000.0</td>\n",
       "      <td>6000.0</td>\n",
       "    </tr>\n",
       "    <tr>\n",
       "      <th>6</th>\n",
       "      <td>24</td>\n",
       "      <td>Female</td>\n",
       "      <td>45000.0</td>\n",
       "      <td>4000.0</td>\n",
       "      <td>2500.0</td>\n",
       "      <td>0.0</td>\n",
       "      <td>4000.0</td>\n",
       "      <td>3500.0</td>\n",
       "    </tr>\n",
       "    <tr>\n",
       "      <th>7</th>\n",
       "      <td>50</td>\n",
       "      <td>Male</td>\n",
       "      <td>120000.0</td>\n",
       "      <td>18000.0</td>\n",
       "      <td>8000.0</td>\n",
       "      <td>0.0</td>\n",
       "      <td>10000.0</td>\n",
       "      <td>20000.0</td>\n",
       "    </tr>\n",
       "    <tr>\n",
       "      <th>8</th>\n",
       "      <td>27</td>\n",
       "      <td>Female</td>\n",
       "      <td>70000.0</td>\n",
       "      <td>10000.0</td>\n",
       "      <td>4000.0</td>\n",
       "      <td>7000.0</td>\n",
       "      <td>9000.0</td>\n",
       "      <td>8000.0</td>\n",
       "    </tr>\n",
       "    <tr>\n",
       "      <th>9</th>\n",
       "      <td>39</td>\n",
       "      <td>Male</td>\n",
       "      <td>98000.0</td>\n",
       "      <td>14000.0</td>\n",
       "      <td>5000.0</td>\n",
       "      <td>0.0</td>\n",
       "      <td>10000.0</td>\n",
       "      <td>12000.0</td>\n",
       "    </tr>\n",
       "    <tr>\n",
       "      <th>10</th>\n",
       "      <td>31</td>\n",
       "      <td>Female</td>\n",
       "      <td>76000.0</td>\n",
       "      <td>11000.0</td>\n",
       "      <td>6000.0</td>\n",
       "      <td>6000.0</td>\n",
       "      <td>9000.0</td>\n",
       "      <td>10000.0</td>\n",
       "    </tr>\n",
       "    <tr>\n",
       "      <th>11</th>\n",
       "      <td>45</td>\n",
       "      <td>Male</td>\n",
       "      <td>110000.0</td>\n",
       "      <td>17000.0</td>\n",
       "      <td>7000.0</td>\n",
       "      <td>10000.0</td>\n",
       "      <td>12000.0</td>\n",
       "      <td>15000.0</td>\n",
       "    </tr>\n",
       "  </tbody>\n",
       "</table>\n",
       "</div>"
      ],
      "text/plain": [
       "    age  gender  total_income  utilities  entertainment  school_fees  \\\n",
       "0    40    Male       62000.0    20000.0         5000.0      15000.0   \n",
       "1    55  Female       70000.0    12000.0         6000.0      20000.0   \n",
       "2    28  Female       85000.0    12000.0         5000.0      20000.0   \n",
       "3    35    Male      150000.0    20000.0        10000.0      30000.0   \n",
       "4    42  Female       95000.0    15000.0         7000.0      10000.0   \n",
       "5    30    Male       60000.0     8000.0         3000.0       5000.0   \n",
       "6    24  Female       45000.0     4000.0         2500.0          0.0   \n",
       "7    50    Male      120000.0    18000.0         8000.0          0.0   \n",
       "8    27  Female       70000.0    10000.0         4000.0       7000.0   \n",
       "9    39    Male       98000.0    14000.0         5000.0          0.0   \n",
       "10   31  Female       76000.0    11000.0         6000.0       6000.0   \n",
       "11   45    Male      110000.0    17000.0         7000.0      10000.0   \n",
       "\n",
       "    shopping  healthcare  \n",
       "0    11000.0     10000.0  \n",
       "1    10000.0     11000.0  \n",
       "2     8000.0     10000.0  \n",
       "3    15000.0     12000.0  \n",
       "4    12000.0     15000.0  \n",
       "5     5000.0      6000.0  \n",
       "6     4000.0      3500.0  \n",
       "7    10000.0     20000.0  \n",
       "8     9000.0      8000.0  \n",
       "9    10000.0     12000.0  \n",
       "10    9000.0     10000.0  \n",
       "11   12000.0     15000.0  "
      ]
     },
     "metadata": {},
     "output_type": "display_data"
    }
   ],
   "source": [
    "# File paths\n",
    "output_dir = Path('../data')\n",
    "file_name = 'survey_data.csv'\n",
    "data_path = output_dir / file_name\n",
    "\n",
    "# Try loading the data\n",
    "try:\n",
    "    df = pd.read_csv(data_path)\n",
    "    # Display the first 5 values\n",
    "    print(\"✅ Data imported successfully. Here's a preview:\\n\")\n",
    "    #print('Data imported successfully. Here\\'s the first few values:\\n')\n",
    "    display( df.head(15) )\n",
    "\n",
    "except FileNotFoundError:\n",
    "    print(f\"❌ File not found: {data_path}\")\n",
    "except pd.errors.EmptyDataError:\n",
    "    print(\"❌ File is empty.\")\n",
    "except pd.errors.ParserError:\n",
    "    print(\"❌ File could not be parsed.\")\n",
    "except Exception as e:\n",
    "    print(f\"❌ An unexpected error occurred: {e}\")"
   ]
  },
  {
   "cell_type": "markdown",
   "id": "66421df7-2af5-4d15-8000-e765f427c6a8",
   "metadata": {},
   "source": [
    "### Inspect the data"
   ]
  },
  {
   "cell_type": "markdown",
   "id": "39c9249b-371a-4df2-b490-d1d05872b758",
   "metadata": {},
   "source": [
    "**Dataset overview**"
   ]
  },
  {
   "cell_type": "code",
   "execution_count": 22,
   "id": "95a7d460-8d86-482f-b0a8-f063efbe473e",
   "metadata": {},
   "outputs": [
    {
     "name": "stdout",
     "output_type": "stream",
     "text": [
      "<class 'pandas.core.frame.DataFrame'>\n",
      "RangeIndex: 12 entries, 0 to 11\n",
      "Data columns (total 8 columns):\n",
      " #   Column         Non-Null Count  Dtype  \n",
      "---  ------         --------------  -----  \n",
      " 0   age            12 non-null     int64  \n",
      " 1   gender         12 non-null     object \n",
      " 2   total_income   12 non-null     float64\n",
      " 3   utilities      12 non-null     float64\n",
      " 4   entertainment  12 non-null     float64\n",
      " 5   school_fees    12 non-null     float64\n",
      " 6   shopping       12 non-null     float64\n",
      " 7   healthcare     12 non-null     float64\n",
      "dtypes: float64(6), int64(1), object(1)\n",
      "memory usage: 900.0+ bytes\n"
     ]
    }
   ],
   "source": [
    "df.info()"
   ]
  },
  {
   "cell_type": "markdown",
   "id": "86b85757-67bb-4bfb-b567-4151f6a5d16c",
   "metadata": {},
   "source": [
    "**Describing the data**"
   ]
  },
  {
   "cell_type": "code",
   "execution_count": 23,
   "id": "914e8e13-82e7-492e-b8e4-3e11549a7ee5",
   "metadata": {},
   "outputs": [
    {
     "data": {
      "text/html": [
       "<div>\n",
       "<style scoped>\n",
       "    .dataframe tbody tr th:only-of-type {\n",
       "        vertical-align: middle;\n",
       "    }\n",
       "\n",
       "    .dataframe tbody tr th {\n",
       "        vertical-align: top;\n",
       "    }\n",
       "\n",
       "    .dataframe thead th {\n",
       "        text-align: right;\n",
       "    }\n",
       "</style>\n",
       "<table border=\"1\" class=\"dataframe\">\n",
       "  <thead>\n",
       "    <tr style=\"text-align: right;\">\n",
       "      <th></th>\n",
       "      <th>age</th>\n",
       "      <th>total_income</th>\n",
       "      <th>utilities</th>\n",
       "      <th>entertainment</th>\n",
       "      <th>school_fees</th>\n",
       "      <th>shopping</th>\n",
       "      <th>healthcare</th>\n",
       "    </tr>\n",
       "  </thead>\n",
       "  <tbody>\n",
       "    <tr>\n",
       "      <th>count</th>\n",
       "      <td>12.000000</td>\n",
       "      <td>12.000000</td>\n",
       "      <td>12.000000</td>\n",
       "      <td>12.000000</td>\n",
       "      <td>12.000000</td>\n",
       "      <td>12.000000</td>\n",
       "      <td>12.000000</td>\n",
       "    </tr>\n",
       "    <tr>\n",
       "      <th>mean</th>\n",
       "      <td>37.166667</td>\n",
       "      <td>86750.000000</td>\n",
       "      <td>13416.666667</td>\n",
       "      <td>5708.333333</td>\n",
       "      <td>10250.000000</td>\n",
       "      <td>9583.333333</td>\n",
       "      <td>11041.666667</td>\n",
       "    </tr>\n",
       "    <tr>\n",
       "      <th>std</th>\n",
       "      <td>9.693797</td>\n",
       "      <td>29530.030939</td>\n",
       "      <td>4888.917585</td>\n",
       "      <td>2115.509108</td>\n",
       "      <td>9411.066986</td>\n",
       "      <td>2998.737108</td>\n",
       "      <td>4350.853278</td>\n",
       "    </tr>\n",
       "    <tr>\n",
       "      <th>min</th>\n",
       "      <td>24.000000</td>\n",
       "      <td>45000.000000</td>\n",
       "      <td>4000.000000</td>\n",
       "      <td>2500.000000</td>\n",
       "      <td>0.000000</td>\n",
       "      <td>4000.000000</td>\n",
       "      <td>3500.000000</td>\n",
       "    </tr>\n",
       "    <tr>\n",
       "      <th>25%</th>\n",
       "      <td>29.500000</td>\n",
       "      <td>68000.000000</td>\n",
       "      <td>10750.000000</td>\n",
       "      <td>4750.000000</td>\n",
       "      <td>3750.000000</td>\n",
       "      <td>8750.000000</td>\n",
       "      <td>9500.000000</td>\n",
       "    </tr>\n",
       "    <tr>\n",
       "      <th>50%</th>\n",
       "      <td>37.000000</td>\n",
       "      <td>80500.000000</td>\n",
       "      <td>13000.000000</td>\n",
       "      <td>5500.000000</td>\n",
       "      <td>8500.000000</td>\n",
       "      <td>10000.000000</td>\n",
       "      <td>10500.000000</td>\n",
       "    </tr>\n",
       "    <tr>\n",
       "      <th>75%</th>\n",
       "      <td>42.750000</td>\n",
       "      <td>101000.000000</td>\n",
       "      <td>17250.000000</td>\n",
       "      <td>7000.000000</td>\n",
       "      <td>16250.000000</td>\n",
       "      <td>11250.000000</td>\n",
       "      <td>12750.000000</td>\n",
       "    </tr>\n",
       "    <tr>\n",
       "      <th>max</th>\n",
       "      <td>55.000000</td>\n",
       "      <td>150000.000000</td>\n",
       "      <td>20000.000000</td>\n",
       "      <td>10000.000000</td>\n",
       "      <td>30000.000000</td>\n",
       "      <td>15000.000000</td>\n",
       "      <td>20000.000000</td>\n",
       "    </tr>\n",
       "  </tbody>\n",
       "</table>\n",
       "</div>"
      ],
      "text/plain": [
       "             age   total_income     utilities  entertainment   school_fees  \\\n",
       "count  12.000000      12.000000     12.000000      12.000000     12.000000   \n",
       "mean   37.166667   86750.000000  13416.666667    5708.333333  10250.000000   \n",
       "std     9.693797   29530.030939   4888.917585    2115.509108   9411.066986   \n",
       "min    24.000000   45000.000000   4000.000000    2500.000000      0.000000   \n",
       "25%    29.500000   68000.000000  10750.000000    4750.000000   3750.000000   \n",
       "50%    37.000000   80500.000000  13000.000000    5500.000000   8500.000000   \n",
       "75%    42.750000  101000.000000  17250.000000    7000.000000  16250.000000   \n",
       "max    55.000000  150000.000000  20000.000000   10000.000000  30000.000000   \n",
       "\n",
       "           shopping    healthcare  \n",
       "count     12.000000     12.000000  \n",
       "mean    9583.333333  11041.666667  \n",
       "std     2998.737108   4350.853278  \n",
       "min     4000.000000   3500.000000  \n",
       "25%     8750.000000   9500.000000  \n",
       "50%    10000.000000  10500.000000  \n",
       "75%    11250.000000  12750.000000  \n",
       "max    15000.000000  20000.000000  "
      ]
     },
     "execution_count": 23,
     "metadata": {},
     "output_type": "execute_result"
    }
   ],
   "source": [
    "df.describe()"
   ]
  },
  {
   "cell_type": "markdown",
   "id": "64ea69c1-cf85-4fa0-b0b9-2eab484eeb82",
   "metadata": {},
   "source": [
    "## Data Visualization\n",
    "---"
   ]
  },
  {
   "cell_type": "markdown",
   "id": "64d17869-b5fb-4fcf-94e8-0d113abb37ed",
   "metadata": {},
   "source": [
    "### Show the ages with the highest income"
   ]
  },
  {
   "cell_type": "code",
   "execution_count": 24,
   "id": "02cc369e-c79c-4ba2-9024-afee586c953e",
   "metadata": {},
   "outputs": [
    {
     "data": {
      "image/png": "[encoded data removed]",
      "text/plain": [
       "<Figure size 640x480 with 1 Axes>"
      ]
     },
     "metadata": {},
     "output_type": "display_data"
    },
    {
     "name": "stdout",
     "output_type": "stream",
     "text": [
      "📊 Chart saved to '..\\data\\charts\\top_ages_income.png'\n"
     ]
    }
   ],
   "source": [
    "sns.set(style=\"whitegrid\")\n",
    "# Top Age Groups by Income\n",
    "try:\n",
    "    sub_dir = 'charts'\n",
    "    chart1_name = 'top_ages_income.png'\n",
    "    \n",
    "    chart_dir = output_dir / sub_dir\n",
    "    chart_dir.mkdir(parents=True, exist_ok=True)    \n",
    "    chart1_path = chart_dir / chart1_name\n",
    "    \n",
    "    top_ages = df.groupby('age')['total_income'].mean().sort_values(ascending=False).head(5)\n",
    "    \n",
    "    top_ages.plot(kind='bar', title='Top 5 Ages by Income', color='skyblue')\n",
    "    plt.ylabel(\"Average Income\")\n",
    "    plt.tight_layout()\n",
    "    plt.savefig(chart1_path)\n",
    "    plt.show()\n",
    "    print(f\"📊 Chart saved to '{chart1_path}'\")\n",
    "\n",
    "except Exception as e:\n",
    "        print(f\"⚠️ Failed to generate Top Ages by Income chart: {e}\")"
   ]
  },
  {
   "cell_type": "markdown",
   "id": "c99e005e-d803-4e85-87fc-a3fb8a80c13b",
   "metadata": {},
   "source": [
    "### Show the gender distribution across spending categories."
   ]
  },
  {
   "cell_type": "code",
   "execution_count": 25,
   "id": "9fc800e5",
   "metadata": {},
   "outputs": [
    {
     "data": {
      "image/png": "[encoded data removed]",
      "text/plain": [
       "<Figure size 640x480 with 1 Axes>"
      ]
     },
     "metadata": {},
     "output_type": "display_data"
    },
    {
     "name": "stdout",
     "output_type": "stream",
     "text": [
      "📊 Chart saved to '..\\data\\charts\\gender_distribution.png'\n"
     ]
    }
   ],
   "source": [
    "try:\n",
    "    chart2_name = 'gender_distribution.png'\n",
    "    chart2_path = chart_dir / chart2_name\n",
    "    \n",
    "    expense_categories = ['utilities', 'entertainment', 'school_fees', 'shopping', 'healthcare']\n",
    "    gender_distribution = df.groupby('gender')[expense_categories].mean().T\n",
    "    \n",
    "    gender_distribution.plot(kind='bar', title='Average Expenses by Gender')\n",
    "    plt.ylabel(\"Amount Spent\")\n",
    "    plt.tight_layout()\n",
    "    plt.savefig(chart2_path)\n",
    "    plt.show()\n",
    "    print(f\"📊 Chart saved to '{chart2_path}'\")\n",
    "    \n",
    "except Exception as e:\n",
    "    print(f\"⚠️ Failed to generate Gender Expenses chart: {e}\")"
   ]
  },
  {
   "cell_type": "code",
   "execution_count": null,
   "id": "a9c8e743-a464-4663-9414-07e1f6692d7b",
   "metadata": {},
   "outputs": [],
   "source": []
  }
 ],
 "metadata": {
  "kernelspec": {
   "display_name": "Python 3 (ipykernel)",
   "language": "python",
   "name": "python3"
  },
  "language_info": {
   "codemirror_mode": {
    "name": "ipython",
    "version": 3
   },
   "file_extension": ".py",
   "mimetype": "text/x-python",
   "name": "python",
   "nbconvert_exporter": "python",
   "pygments_lexer": "ipython3",
   "version": "3.12.7"
  }
 },
 "nbformat": 4,
 "nbformat_minor": 5
}
